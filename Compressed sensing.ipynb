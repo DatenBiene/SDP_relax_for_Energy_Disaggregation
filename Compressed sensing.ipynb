{
 "cells": [
  {
   "cell_type": "code",
   "execution_count": 1,
   "metadata": {},
   "outputs": [],
   "source": [
    "import numpy as np\n",
    "import scipy"
   ]
  },
  {
   "cell_type": "code",
   "execution_count": 10,
   "metadata": {},
   "outputs": [
    {
     "ename": "SyntaxError",
     "evalue": "invalid syntax (<ipython-input-10-0ead2c585f96>, line 13)",
     "output_type": "error",
     "traceback": [
      "\u001b[0;36m  File \u001b[0;32m\"<ipython-input-10-0ead2c585f96>\"\u001b[0;36m, line \u001b[0;32m13\u001b[0m\n\u001b[0;31m    x_t, X_t =\u001b[0m\n\u001b[0m               ^\u001b[0m\n\u001b[0;31mSyntaxError\u001b[0m\u001b[0;31m:\u001b[0m invalid syntax\n"
     ]
    }
   ],
   "source": [
    "def algo_1(X, T, iter_max):\n",
    "    x_best_list, X_best_list = algo_2()\n",
    "    for t in range(2, T):\n",
    "        x = np.array([x_best_list[t-1], x_best_list[t], x_best_list[t+1]])\n",
    "        X = scipy.linalg.block_diag(X_best_list[t-1], X_best_list[t], X_best_list[t+1])\n",
    "        f_best = np.inf\n",
    "        sigma = X - x.T @ x\n",
    "        L = np.linalg.cholesky(sigma)\n",
    "        for k in range(iter_max):\n",
    "            z_k = x + L @ np.random.normal(size=())\n",
    "            x_k = interm(z_k, X)\n",
    "            if f_best > f(x_k):\n",
    "                x_t, X_t = \n",
    "                \n",
    "        \n",
    "    "
   ]
  },
  {
   "cell_type": "code",
   "execution_count": 2,
   "metadata": {},
   "outputs": [],
   "source": [
    "def positive_mat(A):\n",
    "    \"remoe all the non positive eigen-values of A\"\n",
    "    w, v = np.linalg.eig(A)\n",
    "    for i in len(w):\n",
    "        if w[i] < 0:\n",
    "            A -= w[i] * v[i] @ v[i].T\n",
    "    return A"
   ]
  },
  {
   "cell_type": "code",
   "execution_count": 11,
   "metadata": {},
   "outputs": [
    {
     "ename": "SyntaxError",
     "evalue": "invalid character in identifier (<ipython-input-11-c6e19916fabc>, line 18)",
     "output_type": "error",
     "traceback": [
      "\u001b[0;36m  File \u001b[0;32m\"<ipython-input-11-c6e19916fabc>\"\u001b[0;36m, line \u001b[0;32m18\u001b[0m\n\u001b[0;31m    nu_1[t] = (1 / mu) * inv_2􏰀 @ (g - B @ (􏰀S_1 + mu * (A.T @ lamb_1[t] + E.T @ nu_1[t-1] + W_1 + P_1 - D))\u001b[0m\n\u001b[0m                              ^\u001b[0m\n\u001b[0;31mSyntaxError\u001b[0m\u001b[0;31m:\u001b[0m invalid character in identifier\n"
     ]
    }
   ],
   "source": [
    "def algo_2(A, B, D, E, d, iter_max, T_max):\n",
    "    n, p = D.shape\n",
    "    W_0, P_0, S_0 = np.zeros(n, p), np.zeros(n, p), np.zeros(n, p) #???\n",
    "    lamb_0, nu_0, r_0, h_0 = [None for i in range(T_max + 1)], [None for i in range(T_max + 1)], 0, 0\n",
    "    mu = 0.001\n",
    "    inv_1 = scipy.linalg.pinv(A @ A.T)\n",
    "    inv_2 = scipy.linalg.pinv(B @ B.T + C @ C.T + E @ E.T)\n",
    "    for k in range(itermax):\n",
    "        for t in range(1, T_max + 1):\n",
    "            W_1 = np.max(D - A.T @ lamb_0[t] - B.T @ nu_0[t] - E.T @ nu_0[t-1] - P_0[t] - D - S_0[t] / mu,\n",
    "                         np.zeros(D.shape))\n",
    "            P_1 = positive_mat(D - A.T @ lamb_0[t] - B.T @ nu_0[t] - E.T @ nu_0[t-1] - W_0 - D - S_0 / mu)\n",
    "            lamb_1[t] = (1 / mu) * inv_1 * (b - A * (B.T @ nu_0[t] + E.T @ nu_0[t-1] + W_1 + P_1 - D))\n",
    "            h_1 = max(D - C.T @ nu_0[t] - r_0 / mu, 0)\n",
    "            r_1 =r_0 + mu * (C.T @ nu_0[t] + h_0 - D)\n",
    "            # Note that P_0 is positive since by we apply \"positive_mat\" to P_1 at each step so no need to do\n",
    "            # it twice\n",
    "            nu_1[t] = (1 / mu) * inv_2􏰀 @ (g - B @ (􏰀S_1 + mu * (A.T @ lamb_1[t] + E.T @ nu_1[t-1] + W_1 + P_1 - D))\n",
    "                                            - C @ (r_1 + mu * (h_1 - d)) \n",
    "                                            - E @ (pos(S_0 + mu * (A.T @ neg(lamb_0[t+1]) + B.T @ pos(nu_0[t+1])\n",
    "                                                                   + positive_mat(W_0) + P_0 - D ))))\n",
    "            S_1 = S_0 + mu * (A.T @ lamb_1[t] + B.T @ nu_0 + E.T @ nu_1[t-1] + W_1 + P_1 - D)\n",
    "            \n",
    "        W_1, P_1, S_1 = W_0, P_0, S_0\n",
    "        lamb_1, nu_1, r_1, h_1 = lamb_0, nu_0, r_0, h_0\n",
    "        \n",
    "    z_t = r_1 + mu * (C.T @ nu_1 + h_1 - d)\n",
    "    X_t = S_1 + mu * (A.T @ lamb_1 + B.T @ nu_1[t] + E.T @ nu_1[t-1] - W +P −D)\n",
    "    return z_t, X_t"
   ]
  }
 ],
 "metadata": {
  "kernelspec": {
   "display_name": "Python 3",
   "language": "python",
   "name": "python3"
  },
  "language_info": {
   "codemirror_mode": {
    "name": "ipython",
    "version": 3
   },
   "file_extension": ".py",
   "mimetype": "text/x-python",
   "name": "python",
   "nbconvert_exporter": "python",
   "pygments_lexer": "ipython3",
   "version": "3.7.4"
  }
 },
 "nbformat": 4,
 "nbformat_minor": 2
}
